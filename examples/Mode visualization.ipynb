{
 "cells": [
  {
   "cell_type": "markdown",
   "id": "a7c5a4eb",
   "metadata": {},
   "source": [
    "# Mode visualization\n",
    "In this example, the shear frame mode shapes will be visualized using the spatial plotting tools in KOMA."
   ]
  },
  {
   "cell_type": "code",
   "execution_count": 1,
   "id": "0c27b519",
   "metadata": {},
   "outputs": [],
   "source": [
    "from koma import spatial as sp\n",
    "import numpy as np\n",
    "import pyvista as pv\n",
    "\n",
    "from koma.modal import normalize_phi\n",
    "\n",
    "pv.set_jupyter_backend('trame') # for interactive plots in notebook"
   ]
  },
  {
   "cell_type": "markdown",
   "id": "e5780e84",
   "metadata": {},
   "source": [
    "## Importing mode shapes\n",
    "The mode shapes from the eigenvalue solution (reference) are imported. Note that this is done merely out of convenience, these mode shapes could just as easily come directly from an OMA."
   ]
  },
  {
   "cell_type": "code",
   "execution_count": 2,
   "id": "63f88279",
   "metadata": {},
   "outputs": [],
   "source": [
    "# Load mode shapes from eigenvalue solution\n",
    "omega_n_ref = np.load('./data/omega_n.npy')\n",
    "xi_ref = np.load('./data/xi_ref.npy')\n",
    "phi_ref0, __ = normalize_phi(np.load('./data/phi_ref.npy'))\n",
    "\n",
    "# Flip mode shapes as phi_ref is given with first DOF on top (not on bottom as assumed throughout example)\n",
    "phi_ref = np.flip(phi_ref0, axis=0)"
   ]
  },
  {
   "cell_type": "markdown",
   "id": "5f88dafe",
   "metadata": {},
   "source": [
    "## Defining system"
   ]
  },
  {
   "cell_type": "markdown",
   "id": "7ba3bf79",
   "metadata": {},
   "source": [
    "### Either using classes directly:"
   ]
  },
  {
   "cell_type": "code",
   "execution_count": 3,
   "id": "1e31677a",
   "metadata": {},
   "outputs": [
    {
     "data": {
      "application/vnd.jupyter.widget-view+json": {
       "model_id": "4182f4523fa64d4baecc1ebfe30d7899",
       "version_major": 2,
       "version_minor": 0
      },
      "text/plain": [
       "Widget(value='<iframe src=\"http://localhost:61158/index.html?ui=P_0x291e5165fd0_0&reconnect=auto\" class=\"pyvis…"
      ]
     },
     "metadata": {},
     "output_type": "display_data"
    },
    {
     "data": {
      "text/plain": [
       "<pyvista.plotting.plotter.Plotter at 0x291e5165fd0>"
      ]
     },
     "execution_count": 3,
     "metadata": {},
     "output_type": "execute_result"
    }
   ],
   "source": [
    "# Node(2, 0, 3, 0) creates a node labeled 2 with coordinates (x, y, z) = (0, 3, 0)\n",
    "nodes = [\n",
    "    # GROUND FLOOR\n",
    "    sp.Node(1, 0, 0, 0),\n",
    "    sp.Node(2, 0, 3, 0),\n",
    "    sp.Node(3, 3, 0, 0),\n",
    "    sp.Node(4, 3, 3, 0),\n",
    "    \n",
    "    # FIRST FLOOR (1)\n",
    "    sp.Node(11, 0, 0, 3),\n",
    "    sp.Node(12, 0, 3, 3),\n",
    "    sp.Node(13, 3, 0, 3),\n",
    "    sp.Node(14, 3, 3, 3),\n",
    "    \n",
    "    # SECOND FLOOR (2)\n",
    "    sp.Node(21, 0, 0, 6),\n",
    "    sp.Node(22, 0, 3, 6),\n",
    "    sp.Node(23, 3, 0, 6),\n",
    "    sp.Node(24, 3, 3, 6), \n",
    "    \n",
    "    # THIRD FLOOR (3)\n",
    "    sp.Node(31, 0, 0, 9),\n",
    "    sp.Node(32, 0, 3, 9),\n",
    "    sp.Node(33, 3, 0, 9),\n",
    "    sp.Node(34, 3, 3, 9), \n",
    "    \n",
    "    # FIFTH FLOOR (4)\n",
    "    sp.Node(41, 0, 0, 12),\n",
    "    sp.Node(42, 0, 3, 12),\n",
    "    sp.Node(43, 3, 0, 12),\n",
    "    sp.Node(44, 3, 3, 12),\n",
    "    \n",
    "    # SIXTH FLOOR (5)\n",
    "    sp.Node(51, 0, 0, 15),\n",
    "    sp.Node(52, 0, 3, 15),\n",
    "    sp.Node(53, 3, 0, 15),\n",
    "    sp.Node(54, 3, 3, 15),\n",
    "    \n",
    "    # WEEKEND ARMS\n",
    "    sp.Node(4002, 6, 3, 12),\n",
    "    sp.Node(4004, -3, 3, 12),\n",
    "    sp.Node(4102, 9, 3, 9),\n",
    "    sp.Node(4104, -6, 3, 14)\n",
    "    ]\n",
    "\n",
    "# Element([1,5], label=2) creates a line element labeled 2 between nodes with labels 1 and 5\n",
    "# Element([5, 6, 7], label=101) creates a triangle element labeled 101 between nodes 5, 6 and 7\n",
    "# Note that the label definition is optional, as element labels are not really important for the purpose (node labels are)\n",
    "\n",
    "E = sp.Element # to make assignments below more compact\n",
    "elements = [\n",
    "    E([1,11]), E([2,12]), E([3,13]), E([4,14]),\n",
    "    E([11,21]), E([12,22]), E([13,23]), E([14,24]),\n",
    "    E([21,31]), E([22,32]), E([23,33]), E([24,34]),\n",
    "    E([31,41]), E([32,42]), E([33,43]), E([34,44]),\n",
    "    E([41,51]), E([42,52]), E([43,53]), E([44,54]),\n",
    "    \n",
    "    E([11,12,13]), E([12,13,14]), \n",
    "    E([21,22,23]), E([22,23,24]),\n",
    "    E([31,32,33]), E([32,33,34]),\n",
    "    E([41,42,43]), E([42,43,44]),\n",
    "    E([51,52,53]), E([52,53,54]),\n",
    "    \n",
    "    E([42, 4002]), E([44, 4004]),\n",
    "    E([4002, 4102]), E([4004, 4104])\n",
    "]\n",
    "\n",
    "model = sp.Model(nodes, elements)\n",
    "model.plot(background_plotter=False, perspective_cam=False) #background_plotter=False is needed in Jupyter Notebook"
   ]
  },
  {
   "cell_type": "markdown",
   "id": "15ef5d9d",
   "metadata": {},
   "source": [
    "### Or using node matrix and element matrix (more typical setup):"
   ]
  },
  {
   "cell_type": "code",
   "execution_count": 3,
   "id": "9111deb9",
   "metadata": {},
   "outputs": [
    {
     "data": {
      "application/vnd.jupyter.widget-view+json": {
       "model_id": "25d59eb9758840d8b0478c7e9873395d",
       "version_major": 2,
       "version_minor": 0
      },
      "text/plain": [
       "Widget(value='<iframe src=\"http://localhost:62178/index.html?ui=P_0x1a76b8d5fd0_0&reconnect=auto\" class=\"pyvis…"
      ]
     },
     "metadata": {},
     "output_type": "display_data"
    },
    {
     "data": {
      "text/plain": [
       "<pyvista.plotting.plotter.Plotter at 0x1a76b8d5fd0>"
      ]
     },
     "execution_count": 3,
     "metadata": {},
     "output_type": "execute_result"
    }
   ],
   "source": [
    "# Nodes\n",
    "node_matrix = [[1, 0, 0, 0], [2, 0, 3, 0], [3, 3, 0, 0], [4, 3, 3, 0],\n",
    "               [11, 0, 0, 3], [12, 0, 3, 3], [13, 3, 0, 3], [14, 3, 3, 3],\n",
    "               [21, 0, 0, 6], [22, 0, 3, 6], [23, 3, 0, 6], [24, 3, 3, 6],\n",
    "               [31, 0, 0, 9], [32, 0, 3, 9], [33, 3, 0, 9], [34, 3, 3, 9],\n",
    "               [41, 0, 0, 12], [42, 0, 3, 12], [43, 3, 0, 12], [44, 3, 3, 12],\n",
    "               [51, 0, 0, 15], [52, 0, 3, 15], [53, 3, 0, 15], [54, 3, 3, 15]]\n",
    "\n",
    "nodes = sp.nodes_from_matrix(node_matrix)\n",
    "\n",
    "# Elements\n",
    "element_matrix = [[1, 1, 11], [2, 2, 12], [3, 3, 13], [4, 4, 14],\n",
    "                  [11, 11, 21], [12, 12, 22], [13, 13, 23], [14, 14, 24],\n",
    "                  [21, 21, 31], [22, 22, 32], [23, 23, 33], [24, 24, 34],\n",
    "                  [31, 31, 41], [32, 32, 42], [33, 33, 43], [34, 34, 44],\n",
    "                  [41, 41, 51], [42, 42, 52], [43, 43, 53], [44, 44, 54],\n",
    "                  [101, 11, 12, 13], [102, 12, 13, 14],\n",
    "                  [201, 21, 22, 23], [202, 22, 23, 24],\n",
    "                  [301, 31, 32, 33], [302, 32, 33, 34],\n",
    "                  [401, 41, 42, 43], [402, 42, 43, 44],\n",
    "                  [501, 51, 52, 53], [502, 52, 53, 54]\n",
    "                 ]\n",
    "\n",
    "elements = sp.elements_from_matrix(element_matrix)\n",
    "\n",
    "model = sp.Model(nodes, elements)\n",
    "model.plot(background_plotter=False, show=True, node_labels=True, line_settings={'lighting':False, 'color':'black'}, \n",
    "           face_settings={'show_edges': True, 'lighting': False})"
   ]
  },
  {
   "cell_type": "markdown",
   "id": "61b854e0",
   "metadata": {},
   "source": [
    "## Connecting mode shape to model (the long story)\n",
    "Now remains the perhaps most complicated definition: to connect the mode shape to our model. This is done by creating a `dofmap` dictionary which maps the degrees of freedom of our displacement (phi) to the degrees of freedom of our model. To do this, we need to create a dictionary with keys defining the node labels of our model and values giving their relationship to either the input displacement or relative to other nodes/DOFs. Also, it is possible to define custom functions to assign a extrapolation/interpolation behaviour.\n",
    "\n",
    "In our case, we have one-dimensional response data at 5 DOFs (floors) of the shear frame. The other DOFs are defined as zero. Each floor is assumed to move together, so three nodes on each floor are connected to a master node (where our assumed measurement takes place).\n",
    "\n",
    "Note that DOFs in model not mapped to a displacement DOF is assumed zero by default. For each node in our model we define the connectivity as follows, exemplified by node 11:\n",
    "\n",
    "    NODE: [disp DOF, disp DOF, disp DOF]   (the dofs refer to the model DOFs)\n",
    "    \n",
    "The three displacement DOFs set in our list above define what DOF to assign to each of the three model DOFs of the given node. If we want x and y-components of node 123 to be connected to phi[2] and phi[10] respectively (and z=0), we define this as:\n",
    "\n",
    "    123: [2, 10, None]\n",
    "    \n",
    "Furthermore, you can assign relative connections. These are processed in a secondary step, and refer to the nodes and DOFs of the model (after the initial displacement assignment is conducted). However, both of these steps are given by the same input. To model relative connections (master-slave constraints), you can use the `Rel` object:\n",
    "\n",
    "    123: [2, 10, Rel(122, 1)]\n",
    "\n",
    "This adds a secondary connection between the z-component of node 123 (slave) to the y-component (1) of node 122 (master). When all three dofs should be given a master-slave connection to another node, the convenience function `rel3` can be used. This produces output as follows:\n",
    "    \n",
    "    rel3(5) = [Rel(3, 0), Rel(3, 1), Rel(3, 2)]\n",
    "    \n",
    "    \n",
    "Finally, the `Rel` object can be initiated either as shown above using node and dof, or by a custom function. To generate the same behaviour os `Rel(122, 1)` using a function we can do:\n",
    "    \n",
    "    Rel(fun = lambda n: n(122,1)*1.0)  \n",
    "    \n",
    "If we would like to sprinkle it a bit, we can for instance do:\n",
    "    \n",
    "    Rel(fun = lambda n: n(122,1)*0.8 - n(121, 2)**0.3)  \n",
    "    \n",
    "This implies that our model DOF (wherever we choose to put this Rel-object in our dofmap dictionary) is the added up by the component 1/y of node 122 scaled by 0.8 minus component 2/z of node 121 to the power of 0.3.\n",
    "\n",
    "Let's assume that our 5 DOFs in the phi matrix correspond to the first model-DOF of nodes 11, 21, 31, 41 and 51."
   ]
  },
  {
   "cell_type": "code",
   "execution_count": 4,
   "id": "fd12ae8d",
   "metadata": {},
   "outputs": [],
   "source": [
    "dofmap = {11: [0, None, None], \n",
    "          12: sp.rel3(11),\n",
    "          13: sp.rel3(11),\n",
    "          14: sp.rel3(11),\n",
    "          21: [1, None, None], \n",
    "          22: sp.rel3(21),\n",
    "          23: sp.rel3(21),\n",
    "          24: sp.rel3(21),\n",
    "          31: [2, None, None], \n",
    "          32: sp.rel3(31),\n",
    "          33: sp.rel3(31),\n",
    "          34: sp.rel3(31),\n",
    "          41: [3, None, None], \n",
    "          42: sp.rel3(41),\n",
    "          43: sp.rel3(41),\n",
    "          44: sp.rel3(41),\n",
    "          51: [4, None, None],\n",
    "          52: sp.rel3(51),\n",
    "          53: sp.rel3(51),\n",
    "          54: sp.rel3(51),}                \n",
    "\n",
    "\n",
    "sensors = {'A1': 11, 'A2': 21, 'A3': 31, 'A4':41, 'A5':51}    # just for plotting\n",
    "model = sp.Model(nodes, elements, sensors=sensors, dofmap=dofmap)"
   ]
  },
  {
   "cell_type": "code",
   "execution_count": 6,
   "id": "380e4166",
   "metadata": {},
   "outputs": [
    {
     "name": "stderr",
     "output_type": "stream",
     "text": [
      "C:\\Users\\kak\\AppData\\Local\\Programs\\Python\\Python312\\Lib\\site-packages\\pyvista\\core\\utilities\\points.py:55: UserWarning: Points is not a float type. This can cause issues when transforming or applying filters. Casting to ``np.float32``. Disable this by passing ``force_float=False``.\n",
      "  warnings.warn(\n"
     ]
    },
    {
     "data": {
      "application/vnd.jupyter.widget-view+json": {
       "model_id": "6dad0288b9424fb4bbf5ec9680f7d975",
       "version_major": 2,
       "version_minor": 0
      },
      "text/plain": [
       "Widget(value='<iframe src=\"http://localhost:62178/index.html?ui=P_0x1a76b9d8650_2&reconnect=auto\" class=\"pyvis…"
      ]
     },
     "metadata": {},
     "output_type": "display_data"
    }
   ],
   "source": [
    "#%% Plot mode shape mapped on model\n",
    "model.u = phi_ref[:,1]\n",
    "\n",
    "pl = model.plot(deformed=False, plot_sensor_nodes=False, plot_nodes=False,\n",
    "            line_settings={'opacity':0.3}, face_settings={'opacity': 0.3, 'show_edges':False},\n",
    "                perspective_cam=False, background_plotter=False, show=True)\n",
    "\n",
    "# model.plot(pl=pl, deformed=True, perspective_cam=False, sensor_labels=True, background_plotter=False, show=True)"
   ]
  },
  {
   "cell_type": "code",
   "execution_count": 15,
   "id": "caaa99b2-e9db-496a-9724-d5d10e0019a9",
   "metadata": {},
   "outputs": [
    {
     "data": {
      "text/plain": [
       "Node 11"
      ]
     },
     "execution_count": 15,
     "metadata": {},
     "output_type": "execute_result"
    }
   ],
   "source": [
    "model.get_node(list(sensors.values())[0])\n"
   ]
  },
  {
   "cell_type": "markdown",
   "id": "1639e229",
   "metadata": {},
   "source": [
    "To simplify the definition of the dofmap, another (experimental) option is possible. It involves creating an interpolant based on samples from an unstructured grid. It is heavily reliant on a reasonable sensor definition, and is not able to extrapolate. This implies that the nonmeasured DOFs can be constructed based on interpolation between same-component DOFs that are measured.\n",
    "\n",
    "To accomplish this, the following parameters must be set in the model initialization:\n",
    "\n",
    "`undefined_dofs`. Defines how undefined DOFs in the `dofmap` are treated. This is set to 'linear', 'nearest' or 'cubic' (methods accepted by `scipy.interpolation.griddata`). When unspecified, the standard option 'zero' is used, and the behaviour seen in the previous cells is resulting. \n",
    "\n",
    "`interpolation_axes`. This defines the relevant coordinate components to be used for the interpolation. In our example, this is reasonable to define as [2], as we only want the interpolation field to vary vertically (constant in the xy plane).\n",
    "\n",
    "Let's use `undefined_dofs`='linear'. Then our `dofmap` can be simplified significantly. We would only need to define our sensor nodes and DOFs (nodes 11, 21, 41 and 51) and our fixed nodes (1,2,3,4), as the rest are based on linear interpolation along the vertical axis:  "
   ]
  },
  {
   "cell_type": "code",
   "execution_count": 7,
   "id": "3d863d79",
   "metadata": {},
   "outputs": [],
   "source": [
    "dofmap = {11: [0, None, None],\n",
    "         21: [1, None, None],\n",
    "         31: [2, None, None],\n",
    "         41: [3, None, None],\n",
    "         51: [4, None, None],\n",
    "          \n",
    "         1: [None, None, None],\n",
    "         2: [None, None, None],\n",
    "         3: [None, None, None],\n",
    "         4: [None, None, None]\n",
    "         }\n",
    "\n",
    "sensors = {'A1': 11, 'A2': 21, 'A3': 31, 'A4':41, 'A5':51}    # just for plotting\n",
    "model = sp.Model(nodes, elements, sensors=sensors, dofmap=dofmap, undefined_dofs='linear', interpolation_axes=[2])"
   ]
  },
  {
   "cell_type": "code",
   "execution_count": 9,
   "id": "fc5cec12",
   "metadata": {},
   "outputs": [
    {
     "ename": "TypeError",
     "evalue": "len() of unsized object",
     "output_type": "error",
     "traceback": [
      "\u001b[1;31m---------------------------------------------------------------------------\u001b[0m",
      "\u001b[1;31mTypeError\u001b[0m                                 Traceback (most recent call last)",
      "Cell \u001b[1;32mIn[9], line 3\u001b[0m\n\u001b[0;32m      1\u001b[0m \u001b[38;5;66;03m#%% Plot mode shape mapped on model\u001b[39;00m\n\u001b[0;32m      2\u001b[0m model\u001b[38;5;241m.\u001b[39mu \u001b[38;5;241m=\u001b[39m phi_ref[:,\u001b[38;5;241m4\u001b[39m]\n\u001b[1;32m----> 3\u001b[0m pl \u001b[38;5;241m=\u001b[39m \u001b[43mmodel\u001b[49m\u001b[38;5;241;43m.\u001b[39;49m\u001b[43mplot\u001b[49m\u001b[43m(\u001b[49m\u001b[43mdeformed\u001b[49m\u001b[38;5;241;43m=\u001b[39;49m\u001b[38;5;28;43;01mFalse\u001b[39;49;00m\u001b[43m,\u001b[49m\u001b[43m \u001b[49m\u001b[43mplot_nodes\u001b[49m\u001b[38;5;241;43m=\u001b[39;49m\u001b[38;5;28;43;01mFalse\u001b[39;49;00m\u001b[43m,\u001b[49m\u001b[43m \u001b[49m\u001b[43mplot_sensor_nodes\u001b[49m\u001b[38;5;241;43m=\u001b[39;49m\u001b[38;5;28;43;01mFalse\u001b[39;49;00m\u001b[43m,\u001b[49m\n\u001b[0;32m      4\u001b[0m \u001b[43m            \u001b[49m\u001b[43mline_settings\u001b[49m\u001b[38;5;241;43m=\u001b[39;49m\u001b[43m{\u001b[49m\u001b[38;5;124;43m'\u001b[39;49m\u001b[38;5;124;43mopacity\u001b[39;49m\u001b[38;5;124;43m'\u001b[39;49m\u001b[43m:\u001b[49m\u001b[38;5;241;43m0.3\u001b[39;49m\u001b[43m}\u001b[49m\u001b[43m,\u001b[49m\u001b[43m \u001b[49m\u001b[43mface_settings\u001b[49m\u001b[38;5;241;43m=\u001b[39;49m\u001b[43m{\u001b[49m\u001b[38;5;124;43m'\u001b[39;49m\u001b[38;5;124;43mopacity\u001b[39;49m\u001b[38;5;124;43m'\u001b[39;49m\u001b[43m:\u001b[49m\u001b[43m \u001b[49m\u001b[38;5;241;43m0.3\u001b[39;49m\u001b[43m,\u001b[49m\u001b[43m \u001b[49m\u001b[38;5;124;43m'\u001b[39;49m\u001b[38;5;124;43mshow_edges\u001b[39;49m\u001b[38;5;124;43m'\u001b[39;49m\u001b[43m:\u001b[49m\u001b[38;5;28;43;01mFalse\u001b[39;49;00m\u001b[43m}\u001b[49m\u001b[43m,\u001b[49m\n\u001b[0;32m      5\u001b[0m \u001b[43m                \u001b[49m\u001b[43mperspective_cam\u001b[49m\u001b[38;5;241;43m=\u001b[39;49m\u001b[38;5;28;43;01mFalse\u001b[39;49;00m\u001b[43m,\u001b[49m\u001b[43m \u001b[49m\u001b[43mbackground_plotter\u001b[49m\u001b[38;5;241;43m=\u001b[39;49m\u001b[38;5;28;43;01mFalse\u001b[39;49;00m\u001b[43m,\u001b[49m\u001b[43m \u001b[49m\u001b[43mshow\u001b[49m\u001b[38;5;241;43m=\u001b[39;49m\u001b[38;5;28;43;01mFalse\u001b[39;49;00m\u001b[43m)\u001b[49m\n\u001b[0;32m      7\u001b[0m model\u001b[38;5;241m.\u001b[39mplot(pl\u001b[38;5;241m=\u001b[39mpl, deformed\u001b[38;5;241m=\u001b[39m\u001b[38;5;28;01mTrue\u001b[39;00m, perspective_cam\u001b[38;5;241m=\u001b[39m\u001b[38;5;28;01mFalse\u001b[39;00m, sensor_labels\u001b[38;5;241m=\u001b[39m\u001b[38;5;28;01mTrue\u001b[39;00m, background_plotter\u001b[38;5;241m=\u001b[39m\u001b[38;5;28;01mFalse\u001b[39;00m, show\u001b[38;5;241m=\u001b[39m\u001b[38;5;28;01mTrue\u001b[39;00m)\n",
      "File \u001b[1;32m~\\git-repos\\koma\\koma\\spatial.py:618\u001b[0m, in \u001b[0;36mModel.plot\u001b[1;34m(self, pl, show, plot_lines, plot_nodes, plot_sensor_nodes, node_labels, element_labels, plot_faces, canvas_settings, node_settings, line_settings, face_settings, nodelabel_settings, sensorlabel_settings, sensor_node_settings, elementlabel_settings, view, sensor_labels, deformed, node_label_fun, element_label_fun, perspective_cam, background_plotter)\u001b[0m\n\u001b[0;32m    616\u001b[0m     nodes_to_plot \u001b[38;5;241m=\u001b[39m \u001b[38;5;28mself\u001b[39m\u001b[38;5;241m.\u001b[39mnodes\u001b[38;5;241m*\u001b[39m\u001b[38;5;241m1\u001b[39m\n\u001b[0;32m    617\u001b[0m \u001b[38;5;28;01melif\u001b[39;00m plot_nodes \u001b[38;5;129;01mis\u001b[39;00m \u001b[38;5;28;01mFalse\u001b[39;00m \u001b[38;5;129;01mand\u001b[39;00m sensor_node_settings \u001b[38;5;241m!=\u001b[39m node_settings \u001b[38;5;129;01mand\u001b[39;00m \u001b[38;5;28mhasattr\u001b[39m(\u001b[38;5;28mself\u001b[39m, \u001b[38;5;124m'\u001b[39m\u001b[38;5;124msensors\u001b[39m\u001b[38;5;124m'\u001b[39m):\n\u001b[1;32m--> 618\u001b[0m     nodes_to_plot \u001b[38;5;241m=\u001b[39m \u001b[38;5;28;43mself\u001b[39;49m\u001b[38;5;241;43m.\u001b[39;49m\u001b[43mget_nodes\u001b[49m\u001b[43m(\u001b[49m\u001b[43mnp\u001b[49m\u001b[38;5;241;43m.\u001b[39;49m\u001b[43marray\u001b[49m\u001b[43m(\u001b[49m\u001b[38;5;28;43mself\u001b[39;49m\u001b[38;5;241;43m.\u001b[39;49m\u001b[43msensors\u001b[49m\u001b[38;5;241;43m.\u001b[39;49m\u001b[43mvalues\u001b[49m\u001b[43m(\u001b[49m\u001b[43m)\u001b[49m\u001b[43m)\u001b[49m\u001b[43m)\u001b[49m\n\u001b[0;32m    619\u001b[0m \u001b[38;5;28;01melif\u001b[39;00m plot_nodes \u001b[38;5;129;01mis\u001b[39;00m \u001b[38;5;28;01mFalse\u001b[39;00m:\n\u001b[0;32m    620\u001b[0m     nodes_to_plot \u001b[38;5;241m=\u001b[39m []\n",
      "File \u001b[1;32m~\\git-repos\\koma\\koma\\spatial.py:411\u001b[0m, in \u001b[0;36mModel.get_nodes\u001b[1;34m(self, nodes)\u001b[0m\n\u001b[0;32m    409\u001b[0m \u001b[38;5;28;01mif\u001b[39;00m nodes \u001b[38;5;129;01mis\u001b[39;00m \u001b[38;5;28;01mNone\u001b[39;00m:\n\u001b[0;32m    410\u001b[0m     \u001b[38;5;28;01mreturn\u001b[39;00m \u001b[38;5;28mself\u001b[39m\u001b[38;5;241m.\u001b[39mnodes\n\u001b[1;32m--> 411\u001b[0m \u001b[38;5;28;01melif\u001b[39;00m \u001b[38;5;28;43mlen\u001b[39;49m\u001b[43m(\u001b[49m\u001b[43mnodes\u001b[49m\u001b[43m)\u001b[49m\u001b[38;5;241m==\u001b[39m\u001b[38;5;241m0\u001b[39m:\n\u001b[0;32m    412\u001b[0m     \u001b[38;5;28;01mreturn\u001b[39;00m []\n\u001b[0;32m    413\u001b[0m \u001b[38;5;28;01melse\u001b[39;00m:\n",
      "\u001b[1;31mTypeError\u001b[0m: len() of unsized object"
     ]
    }
   ],
   "source": [
    "#%% Plot mode shape mapped on model\n",
    "model.u = phi_ref[:,4]\n",
    "pl = model.plot(deformed=False, plot_nodes=False, plot_sensor_nodes=False,\n",
    "            line_settings={'opacity':0.3}, face_settings={'opacity': 0.3, 'show_edges':False},\n",
    "                perspective_cam=False, background_plotter=False, show=False)\n",
    "\n",
    "model.plot(pl=pl, deformed=True, perspective_cam=False, sensor_labels=True, background_plotter=False, show=True)"
   ]
  },
  {
   "cell_type": "code",
   "execution_count": null,
   "id": "1aab2953-b707-4481-85ba-7b73c2f60fd5",
   "metadata": {},
   "outputs": [],
   "source": []
  },
  {
   "cell_type": "markdown",
   "id": "b9e401fd",
   "metadata": {},
   "source": [
    "## Animate mode shape\n",
    "Animation of mode shapes can be done in two ways:\n",
    " - Interactively in background plotter window (QT)\n",
    " - To file (gif or mp4)\n",
    " \n",
    "All inputs to the plot function is also available here. E.g., if no `Plotter()`-object is input using the input `pl`, the views can be set as `view=side`. The appearance of the optional added undeformed reference structure is defined more imprecisely by using common inputs for lines, nodes and faces (implying that keywords must be valid for all these types). For more control, the undeformed reference can be plotted (with `show=False`) to generate the input `Plotter()`-object.\n",
    "  \n",
    "### Interactively\n",
    "When animation is done interactively, the animation speed is not controllable. It can be called as follow (without specifying `filename`):"
   ]
  },
  {
   "cell_type": "code",
   "execution_count": 10,
   "id": "3ac1e055",
   "metadata": {},
   "outputs": [
    {
     "ename": "SystemExit",
     "evalue": "",
     "output_type": "error",
     "traceback": [
      "An exception has occurred, use %tb to see the full traceback.\n",
      "\u001b[1;31mSystemExit\u001b[0m\n"
     ]
    },
    {
     "name": "stderr",
     "output_type": "stream",
     "text": [
      "C:\\Users\\kak\\AppData\\Local\\Programs\\Python\\Python312\\Lib\\site-packages\\IPython\\core\\interactiveshell.py:3585: UserWarning: To exit: use 'exit', 'quit', or Ctrl-D.\n",
      "  warn(\"To exit: use 'exit', 'quit', or Ctrl-D.\", stacklevel=1)\n"
     ]
    }
   ],
   "source": [
    "model.animate_mode(phi_ref[:,2],  node_settings={'color': 'orange'}, line_settings={'color':'red'})"
   ]
  },
  {
   "cell_type": "markdown",
   "id": "dfa3c4ef",
   "metadata": {},
   "source": [
    "### To file\n",
    "Alternatively, a file can be generated as follows (gif is shown here). Then, fps (60 is default) and frequency (1 Hz is default) can be specified. "
   ]
  },
  {
   "cell_type": "code",
   "execution_count": null,
   "id": "0ce11e12",
   "metadata": {},
   "outputs": [],
   "source": [
    "for mode in range(3):\n",
    "    phi_plot = phi_ref[:,mode]/np.max(np.abs(phi_ref[:,mode]))*1.0\n",
    "    model.animate_mode(phi_plot, fps=60, add_undeformed=True, filename=f'mode{mode+1}.gif')"
   ]
  }
 ],
 "metadata": {
  "kernelspec": {
   "display_name": "Python 3 (ipykernel)",
   "language": "python",
   "name": "python3"
  },
  "language_info": {
   "codemirror_mode": {
    "name": "ipython",
    "version": 3
   },
   "file_extension": ".py",
   "mimetype": "text/x-python",
   "name": "python",
   "nbconvert_exporter": "python",
   "pygments_lexer": "ipython3",
   "version": "3.12.6"
  }
 },
 "nbformat": 4,
 "nbformat_minor": 5
}
