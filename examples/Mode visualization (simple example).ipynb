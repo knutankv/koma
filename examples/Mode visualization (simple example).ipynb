{
 "cells": [
  {
   "cell_type": "markdown",
   "id": "a7c5a4eb",
   "metadata": {},
   "source": [
    "# Mode visualization (simple example)\n",
    "In this example, a simple traffic sign is visualized using the spatial plotting tools in KOMA and a synthetic displacement definition (mode shape). Note that the example showing visualization of a shear frame is more describing; not all details are fully described in the current example."
   ]
  },
  {
   "cell_type": "code",
   "execution_count": 1,
   "id": "0c27b519",
   "metadata": {},
   "outputs": [],
   "source": [
    "from koma import spatial as sp\n",
    "import numpy as np\n",
    "import pyvista as pv\n",
    "from koma.modal import normalize_phi\n",
    "import matplotlib.pyplot as plt\n",
    "\n",
    "pv.set_jupyter_backend('trame') # for interactive plots in notebook"
   ]
  },
  {
   "cell_type": "code",
   "execution_count": 2,
   "id": "f050bd36-a0d5-4ad2-95ef-8708da95c79b",
   "metadata": {},
   "outputs": [
    {
     "data": {
      "image/png": "[encoded data removed]",
      "text/plain": [
       "<Figure size 640x480 with 1 Axes>"
      ]
     },
     "metadata": {},
     "output_type": "display_data"
    }
   ],
   "source": [
    "# Define synthetic mode shapes\n",
    "z = np.linspace(0,1,5)\n",
    "mode1 = np.sin((np.pi/2)/1.05*z)\n",
    "mode2 = np.sin(2*(np.pi/2)/1.05*z)\n",
    "\n",
    "# Mimic fixed ground connection\n",
    "mode1[1:] = mode1[1:]*z[1:]\n",
    "mode2[1:] = mode2[1:]*z[1:]\n",
    "\n",
    "plt.plot(np.vstack([mode1, mode2]).T, z);"
   ]
  },
  {
   "cell_type": "markdown",
   "id": "5f88dafe",
   "metadata": {},
   "source": [
    "## Defining system"
   ]
  },
  {
   "cell_type": "markdown",
   "id": "7ba3bf79",
   "metadata": {},
   "source": [
    "### Either using classes directly:"
   ]
  },
  {
   "cell_type": "code",
   "execution_count": 3,
   "id": "1e31677a",
   "metadata": {},
   "outputs": [
    {
     "data": {
      "application/vnd.jupyter.widget-view+json": {
       "model_id": "13a1992bd8d3435ea1d39c041d229093",
       "version_major": 2,
       "version_minor": 0
      },
      "text/plain": [
       "Widget(value='<iframe src=\"http://localhost:51802/index.html?ui=P_0x1bbd696fa10_0&reconnect=auto\" class=\"pyvis…"
      ]
     },
     "metadata": {},
     "output_type": "display_data"
    },
    {
     "data": {
      "text/plain": [
       "<pyvista.plotting.plotter.Plotter at 0x1bbd696fa10>"
      ]
     },
     "execution_count": 3,
     "metadata": {},
     "output_type": "execute_result"
    }
   ],
   "source": [
    "# Node(2, 0, 3, 0) creates a node labeled 2 with coordinates (x, y, z) = (0, 3, 0)\n",
    "nodes = [\n",
    "    # GROUND \n",
    "    sp.Node(1, 0, 0, 0),\n",
    "    \n",
    "    # POST\n",
    "    sp.Node(2, 0, 0, 0.5),\n",
    "    sp.Node(3, 0, 0, 1.0),\n",
    "    sp.Node(4, 0, 0, 1.5),\n",
    "    sp.Node(5, 0, 0, 2.0), \n",
    "    \n",
    "    # SIGN\n",
    "    sp.Node(101, 0, 0.3, 2.0),\n",
    "    sp.Node(102, 0, -0.3, 2.0),\n",
    "    sp.Node(103, 0, 0.3, 2.6),\n",
    "    sp.Node(104, 0, -0.3, 2.6), \n",
    "    ]\n",
    "\n",
    "# Element([1,5], label=2) creates a line element labeled 2 between nodes with labels 1 and 5\n",
    "# Element([5, 6, 7], label=101) creates a triangle element labeled 101 between nodes 5, 6 and 7\n",
    "# Note that the label definition is optional, as element labels are not really important for the purpose (node labels are)\n",
    "\n",
    "E = sp.Element # to make assignments below more compact\n",
    "elements = [E([1,2]), \n",
    "            E([2,3]),\n",
    "            E([3,4]), \n",
    "            E([4,5]), \n",
    "            \n",
    "            E([101,102,103]), \n",
    "            E([102,103,104])]\n",
    "\n",
    "model = sp.Model(nodes, elements)\n",
    "model.plot(background_plotter=False, perspective_cam=False, node_labels=True) #background_plotter=False is needed in Jupyter Notebook"
   ]
  },
  {
   "cell_type": "code",
   "execution_count": 4,
   "id": "fd12ae8d",
   "metadata": {},
   "outputs": [
    {
     "data": {
      "application/vnd.jupyter.widget-view+json": {
       "model_id": "f82ec660e1224bccab764239bbf6228f",
       "version_major": 2,
       "version_minor": 0
      },
      "text/plain": [
       "Widget(value='<iframe src=\"http://localhost:51802/index.html?ui=P_0x1bbde41d590_1&reconnect=auto\" class=\"pyvis…"
      ]
     },
     "metadata": {},
     "output_type": "display_data"
    },
    {
     "data": {
      "text/plain": [
       "<pyvista.plotting.plotter.Plotter at 0x1bbde41d590>"
      ]
     },
     "execution_count": 4,
     "metadata": {},
     "output_type": "execute_result"
    }
   ],
   "source": [
    "dofmap = {1: [None, None, None], # Fixed at bottom\n",
    "          2: [1, None, None],    # node 2 grabs dof with index 1 from phi for x-displacement\n",
    "          3: [2, None, None],    # node 3 grabs dof with index 2 from phi for x-displacement\n",
    "          4: [3, None, None],    # node 4 grabs dof with index 3 from phi for x-displacement\n",
    "          5: [4, None, None],    # node 5 grabs dof with index 4 from phi for x-displacement\n",
    "          103: [sp.Rel(fun = lambda n: n(5,0) + (n(5,0) - n(4,0))), None,  None]\n",
    "}\n",
    "\n",
    "sensors = {'acc1': 2, 'acc2': 3, 'acc3': 4, 'acc4':5}    # just for plotting\n",
    "\n",
    "model = sp.Model(nodes, elements, sensors=sensors, dofmap=dofmap, undefined_dofs='linear', interpolation_axes=[2])\n",
    "\n",
    "model.plot(background_plotter=False, perspective_cam=False,\n",
    "           plot_sensor_nodes=True, sensor_labels=True)"
   ]
  },
  {
   "cell_type": "code",
   "execution_count": 5,
   "id": "380e4166",
   "metadata": {},
   "outputs": [
    {
     "data": {
      "application/vnd.jupyter.widget-view+json": {
       "model_id": "091abdac7e9e4aaf9af67bb81cb130b8",
       "version_major": 2,
       "version_minor": 0
      },
      "text/plain": [
       "Widget(value='<iframe src=\"http://localhost:51802/index.html?ui=P_0x1bbd8b21310_2&reconnect=auto\" class=\"pyvis…"
      ]
     },
     "metadata": {},
     "output_type": "display_data"
    },
    {
     "data": {
      "text/plain": [
       "<pyvista.plotting.plotter.Plotter at 0x1bbd8b21310>"
      ]
     },
     "execution_count": 5,
     "metadata": {},
     "output_type": "execute_result"
    }
   ],
   "source": [
    "#%% Plot mode shape mapped on model: MODE 1\n",
    "model.u = mode1*0.5\n",
    "\n",
    "pl = model.plot(deformed=False, plot_sensor_nodes=True, plot_nodes=False,\n",
    "            line_settings={'opacity':0.3}, face_settings={'opacity': 0.3, 'show_edges':False},\n",
    "             perspective_cam=False, background_plotter=False, show=False)\n",
    "\n",
    "model.plot(pl=pl, deformed=True, perspective_cam=False, sensor_labels=True, background_plotter=False, show=True)"
   ]
  },
  {
   "cell_type": "code",
   "execution_count": 6,
   "id": "0b92fb20-befe-4a3d-ae8e-b827469e3480",
   "metadata": {},
   "outputs": [
    {
     "data": {
      "application/vnd.jupyter.widget-view+json": {
       "model_id": "8f3957307d704e7784ae7bdb8160cc36",
       "version_major": 2,
       "version_minor": 0
      },
      "text/plain": [
       "Widget(value='<iframe src=\"http://localhost:51802/index.html?ui=P_0x1bbd697ccd0_3&reconnect=auto\" class=\"pyvis…"
      ]
     },
     "metadata": {},
     "output_type": "display_data"
    },
    {
     "data": {
      "text/plain": [
       "<pyvista.plotting.plotter.Plotter at 0x1bbd697ccd0>"
      ]
     },
     "execution_count": 6,
     "metadata": {},
     "output_type": "execute_result"
    }
   ],
   "source": [
    "#%% Plot mode shape mapped on model: MODE 2\n",
    "model.u = mode2*0.5\n",
    "\n",
    "pl = model.plot(deformed=False, plot_sensor_nodes=True, plot_nodes=False,\n",
    "            line_settings={'opacity':0.3}, face_settings={'opacity': 0.3, 'show_edges':False},\n",
    "             perspective_cam=False, background_plotter=False, show=False)\n",
    "\n",
    "model.plot(pl=pl, deformed=True, perspective_cam=False, sensor_labels=True, background_plotter=False, show=True)"
   ]
  },
  {
   "cell_type": "code",
   "execution_count": 10,
   "id": "cf448285-79c0-4214-9423-dcdd4fff2cc6",
   "metadata": {},
   "outputs": [
    {
     "ename": "SystemExit",
     "evalue": "",
     "output_type": "error",
     "traceback": [
      "An exception has occurred, use %tb to see the full traceback.\n",
      "\u001b[1;31mSystemExit\u001b[0m\n"
     ]
    }
   ],
   "source": [
    "## Animate mode 2\n",
    "model.animate_mode(mode2*0.5, background_plotter=True)"
   ]
  },
  {
   "cell_type": "code",
   "execution_count": 16,
   "id": "f8bd7c85-2f95-4661-b81e-ce1f9251a30e",
   "metadata": {},
   "outputs": [
    {
     "data": {
      "application/vnd.jupyter.widget-view+json": {
       "model_id": "0659ee2e44884aef81edb5657377544f",
       "version_major": 2,
       "version_minor": 0
      },
      "text/plain": [
       "Widget(value='<iframe src=\"http://localhost:51802/index.html?ui=P_0x1bbde41efd0_4&reconnect=auto\" class=\"pyvis…"
      ]
     },
     "metadata": {},
     "output_type": "display_data"
    }
   ],
   "source": [
    "## Animate mode 2, save to gif\n",
    "model.animate_mode(mode2*0.5, fps=60, add_undeformed=True, filename='mode2_exported.gif', f=1.5)"
   ]
  }
 ],
 "metadata": {
  "kernelspec": {
   "display_name": "Python 3 (ipykernel)",
   "language": "python",
   "name": "python3"
  },
  "language_info": {
   "codemirror_mode": {
    "name": "ipython",
    "version": 3
   },
   "file_extension": ".py",
   "mimetype": "text/x-python",
   "name": "python",
   "nbconvert_exporter": "python",
   "pygments_lexer": "ipython3",
   "version": "3.13.2"
  }
 },
 "nbformat": 4,
 "nbformat_minor": 5
}
